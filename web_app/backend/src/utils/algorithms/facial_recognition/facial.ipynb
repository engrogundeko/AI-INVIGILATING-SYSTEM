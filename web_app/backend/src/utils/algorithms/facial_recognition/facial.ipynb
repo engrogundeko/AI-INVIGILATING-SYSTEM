{
 "cells": [
  {
   "cell_type": "code",
   "execution_count": null,
   "metadata": {},
   "outputs": [],
   "source": [
    "import threading\n",
    "import cv2\n",
    "from deepface import DeepFace"
   ]
  }
 ],
 "metadata": {
  "language_info": {
   "name": "python"
  }
 },
 "nbformat": 4,
 "nbformat_minor": 2
}
